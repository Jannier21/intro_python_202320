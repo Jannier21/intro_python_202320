{
  "nbformat": 4,
  "nbformat_minor": 0,
  "metadata": {
    "colab": {
      "provenance": [],
      "authorship_tag": "ABX9TyPNpl/ppwTntRiGuh9dH+NY",
      "include_colab_link": true
    },
    "kernelspec": {
      "name": "python3",
      "display_name": "Python 3"
    },
    "language_info": {
      "name": "python"
    }
  },
  "cells": [
    {
      "cell_type": "markdown",
      "metadata": {
        "id": "view-in-github",
        "colab_type": "text"
      },
      "source": [
        "<a href=\"https://colab.research.google.com/github/Jannier21/intro_python_202320/blob/main/introduction.ipynb\" target=\"_parent\"><img src=\"https://colab.research.google.com/assets/colab-badge.svg\" alt=\"Open In Colab\"/></a>"
      ]
    },
    {
      "cell_type": "markdown",
      "source": [
        "#introduccion a python\n",
        "\n",
        "##curso de programacion de algoritmia UPB 202320\n",
        "\n",
        "- NOMBRE: JANNIER NAVARRO\n",
        "- ID: 000496984\n",
        "- CORREO: JANNIER.NAVARRO@UPB.EDU.CO\n",
        "\n",
        "Esta es la expresion de la linea recta\n",
        "$$y=mx+b$$\n",
        "donde $x$ es la posicion"
      ],
      "metadata": {
        "id": "W0hNBgHiFiYP"
      }
    },
    {
      "cell_type": "code",
      "source": [
        "# comentarios\n",
        "\n",
        "# mi primera linea de codigo\n",
        "name=\"jannier navarro\"\n",
        "print(\"Hello,\", name)"
      ],
      "metadata": {
        "colab": {
          "base_uri": "https://localhost:8080/"
        },
        "id": "xscMjddYIE_g",
        "outputId": "ba25f22c-2148-440e-8c6b-7a71366d4b87"
      },
      "execution_count": 2,
      "outputs": [
        {
          "output_type": "stream",
          "name": "stdout",
          "text": [
            "Hello, jannier navarro\n"
          ]
        }
      ]
    },
    {
      "cell_type": "code",
      "source": [
        "firstname= \"jannier\"\n",
        "lastname= \"navarro\"\n",
        "age= \"20 años\"\n",
        "city= \"monteria\"\n",
        "food= \"salvajada\"\n",
        "print(\"mi nombre es\",firstname, lastname,\"y tengo\",age,\"vivo en\",city, \"y me gusta la\", food)"
      ],
      "metadata": {
        "colab": {
          "base_uri": "https://localhost:8080/"
        },
        "id": "1yE3ZsDwRXBy",
        "outputId": "ed57026e-b7c2-42a5-a36a-3c4018d32997"
      },
      "execution_count": 11,
      "outputs": [
        {
          "output_type": "stream",
          "name": "stdout",
          "text": [
            "mi nombre es jannier navarro y tengo 20 años vivo en monteria y me gusta la salvajada\n"
          ]
        }
      ]
    },
    {
      "cell_type": "code",
      "source": [],
      "metadata": {
        "id": "d3xOczF6VUmz"
      },
      "execution_count": null,
      "outputs": []
    }
  ]
}