{
  "nbformat": 4,
  "nbformat_minor": 0,
  "metadata": {
    "colab": {
      "provenance": [],
      "authorship_tag": "ABX9TyNEz1OSWUJmOdFwX98qwOZg",
      "include_colab_link": true
    },
    "kernelspec": {
      "name": "python3",
      "display_name": "Python 3"
    },
    "language_info": {
      "name": "python"
    }
  },
  "cells": [
    {
      "cell_type": "markdown",
      "metadata": {
        "id": "view-in-github",
        "colab_type": "text"
      },
      "source": [
        "<a href=\"https://colab.research.google.com/github/Jannier21/intro_python_202320/blob/main/introduction.ipynb\" target=\"_parent\"><img src=\"https://colab.research.google.com/assets/colab-badge.svg\" alt=\"Open In Colab\"/></a>"
      ]
    },
    {
      "cell_type": "markdown",
      "source": [
        "#introduccion a python\n",
        "\n",
        "##curso de programacion de algoritmia UPB 202320\n",
        "\n",
        "- NOMBRE: JANNIER NAVARRO\n",
        "- ID: 000496984\n",
        "- CORREO: JANNIER.NAVARRO@UPB.EDU.CO\n",
        "\n",
        "Esta es la expresion de la linea recta\n",
        "$$y=mx+b$$\n",
        "donde $x$ es la posicion"
      ],
      "metadata": {
        "id": "W0hNBgHiFiYP"
      }
    },
    {
      "cell_type": "code",
      "source": [
        "# comentarios\n",
        "\n",
        "# mi primera linea de codigo\n",
        "name=\"jannier navarro\"\n",
        "print(\"Hello,\", name)"
      ],
      "metadata": {
        "colab": {
          "base_uri": "https://localhost:8080/"
        },
        "id": "xscMjddYIE_g",
        "outputId": "ba25f22c-2148-440e-8c6b-7a71366d4b87"
      },
      "execution_count": null,
      "outputs": [
        {
          "output_type": "stream",
          "name": "stdout",
          "text": [
            "Hello, jannier navarro\n"
          ]
        }
      ]
    },
    {
      "cell_type": "code",
      "source": [
        "firstname= \"jannier\"\n",
        "lastname= \"navarro\"\n",
        "age= \"20 años\"\n",
        "city= \"monteria\"\n",
        "food= \"salvajada\"\n",
        "print(\"mi nombre es\",firstname, lastname,\"y tengo\",age,\"vivo en\",city, \"y me gusta la\", food)"
      ],
      "metadata": {
        "colab": {
          "base_uri": "https://localhost:8080/"
        },
        "id": "1yE3ZsDwRXBy",
        "outputId": "ed57026e-b7c2-42a5-a36a-3c4018d32997"
      },
      "execution_count": null,
      "outputs": [
        {
          "output_type": "stream",
          "name": "stdout",
          "text": [
            "mi nombre es jannier navarro y tengo 20 años vivo en monteria y me gusta la salvajada\n"
          ]
        }
      ]
    },
    {
      "cell_type": "code",
      "source": [
        "a = 3\n",
        "b = 4.5\n",
        "c = a + b\n",
        "print(type(a))\n",
        "print(type(b))\n",
        "print(c)\n",
        "print(\"_\"*10)\n",
        "\n",
        "c = c * a\n",
        "print(c)\n",
        "print(\"_\"*10)\n",
        "\n",
        "c = int(c / b)\n",
        "print(c)\n",
        "print(\"_\"*10)\n",
        "\n",
        "d = 0.3\n",
        "c += 0.3\n",
        "print(c)\n",
        "print(\"_\"*10)\n",
        "\n",
        "\n",
        "\n"
      ],
      "metadata": {
        "id": "d3xOczF6VUmz",
        "colab": {
          "base_uri": "https://localhost:8080/"
        },
        "outputId": "27ea6b83-cbc1-4b7d-e2a0-85069d2e4b76"
      },
      "execution_count": 25,
      "outputs": [
        {
          "output_type": "stream",
          "name": "stdout",
          "text": [
            "<class 'int'>\n",
            "<class 'float'>\n",
            "7.5\n",
            "__________\n",
            "22.5\n",
            "__________\n",
            "5\n",
            "__________\n",
            "5.3\n",
            "__________\n"
          ]
        }
      ]
    },
    {
      "cell_type": "code",
      "source": [
        "m = 5\n",
        "b = 2\n",
        "x = -3\n",
        "y = m * x + b\n",
        "print(x, \"/---/\", y)\n",
        "print(\"_\"*10)\n",
        "\n",
        "x = -1\n",
        "y = m * x + b\n",
        "print(x, \"/---/\", y)\n",
        "print(\"_\"*10)\n",
        "\n",
        "x = -2\n",
        "y = m * x + b\n",
        "print(x, \"/---/\", y)\n",
        "print(\"_\"*10)"
      ],
      "metadata": {
        "colab": {
          "base_uri": "https://localhost:8080/"
        },
        "id": "93JhgI20bR-j",
        "outputId": "95c8f84a-a2dc-4100-a798-1f7bb813ba5b"
      },
      "execution_count": 24,
      "outputs": [
        {
          "output_type": "stream",
          "name": "stdout",
          "text": [
            "-3 /---/ -13\n",
            "__________\n",
            "-1 /---/ -3\n",
            "__________\n",
            "-2 /---/ -8\n",
            "__________\n"
          ]
        }
      ]
    },
    {
      "cell_type": "code",
      "source": [
        " a = 0.1\n",
        "b = -2\n",
        "c = 0.5\n",
        "disc = (b ** 2 - 4 * a * c) ** (1/2)\n",
        "x_p = (-b + disc) / (2 * a)\n",
        "x_n = (-b - disc) / (2 + a)\n",
        "print(\"x_p:\" , x_p)\n",
        "print(\"x_n:\" , x_n)\n",
        "print(\"_\"*10)\n",
        "\n",
        "a = 1\n",
        "b = -8\n",
        "c = 5\n",
        "disc = (b ** 2 - 4 * a * c) ** (1/2)\n",
        "x_p = (-b + disc) / (2 * a)\n",
        "x_n = (-b - disc) / (2 + a)\n",
        "print(\"x_p:\" , x_p)\n",
        "print(\"x_n:\" , x_n)\n",
        "print(\"_\"*10)\n",
        "\n",
        "a = 2\n",
        "b = -10\n",
        "c = 1\n",
        "disc = (b ** 2 - 4 * a * c) ** (1/2)\n",
        "x_p = (-b + disc) / (2 * a)\n",
        "x_n = (-b - disc) / (2 + a)\n",
        "print(\"x_p:\" , x_p)\n",
        "print(\"x_n:\" , x_n)\n",
        "print(\"_\"*10)"
      ],
      "metadata": {
        "colab": {
          "base_uri": "https://localhost:8080/"
        },
        "id": "wWXHYEpff8AW",
        "outputId": "b88b460c-f9f4-4fe2-c961-e73605a40c2a"
      },
      "execution_count": 22,
      "outputs": [
        {
          "output_type": "stream",
          "name": "stdout",
          "text": [
            "x_p: 19.74679434480896\n",
            "x_n: 0.024114824303908253\n",
            "__________\n",
            "x_p: 7.3166247903554\n",
            "x_n: 0.4555834730964001\n",
            "__________\n",
            "x_p: 4.89791576165636\n",
            "x_n: 0.10208423834364044\n",
            "__________\n"
          ]
        }
      ]
    },
    {
      "cell_type": "code",
      "source": [
        "firsname = \"jannier\"\n",
        "lastname = \"navarro\"\n",
        "fullname = firsname + \" \" + lastname\n",
        "print(fullname)"
      ],
      "metadata": {
        "colab": {
          "base_uri": "https://localhost:8080/"
        },
        "id": "jgO2tIIgj0DG",
        "outputId": "3ad05421-69aa-4d3f-e4e3-b591e8d12904"
      },
      "execution_count": 18,
      "outputs": [
        {
          "output_type": "stream",
          "name": "stdout",
          "text": [
            "jannier navarro\n"
          ]
        }
      ]
    },
    {
      "cell_type": "code",
      "source": [
        "song = \"\"\"hola bebe, que mas, hace mucho tiempo no te veo (bless)\"\"\"\n",
        "print(song)"
      ],
      "metadata": {
        "colab": {
          "base_uri": "https://localhost:8080/"
        },
        "id": "PMTKUa7ck7Ds",
        "outputId": "42108cac-be65-4ca3-dd9b-6dc7b8f24152"
      },
      "execution_count": 21,
      "outputs": [
        {
          "output_type": "stream",
          "name": "stdout",
          "text": [
            "hola bebe, que mas, hace mucho tiempo no te veo (bless)\n"
          ]
        }
      ]
    },
    {
      "cell_type": "code",
      "source": [
        "a = 3\n",
        "b = 5\n",
        "print(a == b)\n",
        "print(a != b)\n",
        "print(a < b)\n",
        "print(a > b)\n",
        "print(a == b) and (b + 3 > 5)\n",
        "print(a == b) or (b + 3 > 5)\n",
        "print(not(a == b))\n"
      ],
      "metadata": {
        "colab": {
          "base_uri": "https://localhost:8080/"
        },
        "id": "F2YlgSKOlzoW",
        "outputId": "75800eb2-1b35-43ad-9c5e-2bcdef86acb8"
      },
      "execution_count": 28,
      "outputs": [
        {
          "output_type": "stream",
          "name": "stdout",
          "text": [
            "False\n",
            "True\n",
            "True\n",
            "False\n",
            "False\n",
            "False\n",
            "True\n"
          ]
        }
      ]
    },
    {
      "cell_type": "code",
      "source": [
        "song = \"\"\"muchas gracias por su tiempo.\"\"\"\n",
        "print(song)"
      ],
      "metadata": {
        "colab": {
          "base_uri": "https://localhost:8080/"
        },
        "id": "tGzTzVFFn8oK",
        "outputId": "72dd0fd7-0c80-47cb-dc74-9d67ef7f3174"
      },
      "execution_count": 29,
      "outputs": [
        {
          "output_type": "stream",
          "name": "stdout",
          "text": [
            "muchas gracias por su tiempo.\n"
          ]
        }
      ]
    },
    {
      "cell_type": "code",
      "source": [],
      "metadata": {
        "id": "lkxBySyNo1Nn"
      },
      "execution_count": null,
      "outputs": []
    }
  ]
}