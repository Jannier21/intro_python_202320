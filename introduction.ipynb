{
  "nbformat": 4,
  "nbformat_minor": 0,
  "metadata": {
    "colab": {
      "provenance": [],
      "authorship_tag": "ABX9TyMbMQmbOiKolwdZMJt/YLHX",
      "include_colab_link": true
    },
    "kernelspec": {
      "name": "python3",
      "display_name": "Python 3"
    },
    "language_info": {
      "name": "python"
    }
  },
  "cells": [
    {
      "cell_type": "markdown",
      "metadata": {
        "id": "view-in-github",
        "colab_type": "text"
      },
      "source": [
        "<a href=\"https://colab.research.google.com/github/Jannier21/intro_python_202320/blob/main/introduction.ipynb\" target=\"_parent\"><img src=\"https://colab.research.google.com/assets/colab-badge.svg\" alt=\"Open In Colab\"/></a>"
      ]
    },
    {
      "cell_type": "markdown",
      "source": [
        "#introduccion a python\n",
        "\n",
        "##curso de programacion de algoritmia UPB 202320\n",
        "\n",
        "- NOMBRE: JANNIER NAVARRO\n",
        "- ID: 000496984\n",
        "- CORREO: JANNIER.NAVARRO@UPB.EDU.CO\n",
        "\n",
        "Esta es la expresion de la linea recta\n",
        "$$y=mx+b$$\n",
        "donde $x$ es la posicion"
      ],
      "metadata": {
        "id": "W0hNBgHiFiYP"
      }
    },
    {
      "cell_type": "code",
      "source": [],
      "metadata": {
        "id": "xscMjddYIE_g"
      },
      "execution_count": null,
      "outputs": []
    }
  ]
}